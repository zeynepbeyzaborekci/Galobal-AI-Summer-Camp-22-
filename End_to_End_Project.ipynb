{
  "nbformat": 4,
  "nbformat_minor": 0,
  "metadata": {
    "colab": {
      "name": "End_to_End_Project.ipynb",
      "provenance": [],
      "collapsed_sections": [],
      "authorship_tag": "ABX9TyNBWj1HP5SkOtkt+YL7LZze",
      "include_colab_link": true
    },
    "kernelspec": {
      "name": "python3",
      "display_name": "Python 3"
    },
    "language_info": {
      "name": "python"
    }
  },
  "cells": [
    {
      "cell_type": "markdown",
      "metadata": {
        "id": "view-in-github",
        "colab_type": "text"
      },
      "source": [
        "<a href=\"https://colab.research.google.com/github/zeynepbeyzaborekci/Galobal-AI-Summer-Camp-22-/blob/main/End_to_End_Project.ipynb\" target=\"_parent\"><img src=\"https://colab.research.google.com/assets/colab-badge.svg\" alt=\"Open In Colab\"/></a>"
      ]
    },
    {
      "cell_type": "markdown",
      "source": [
        "# Medikal Maliyet Analizi Projesi\n",
        "\n",
        "> **Amaç:** Verilen değişkenlere göre bir kişinin sağlık\n",
        "sigortasının yaklaşık ne kadar masraflı olacağını tahmin etmek.\n",
        "\n",
        "> **Veri Seti:** https://www.kaggle.com/datasets/mirichoi0218/insurance\n",
        "\n",
        "> Grup Üyeleri\n",
        "\n",
        "1.   Ahmet Emre Gökalp\n",
        "2.   Bahadır Özcanlı\n",
        "3.   Baver Can Aydoğan\n",
        "4.   Deniz Sakarya\n",
        "5.   Kadir Dündar\n",
        "6.   Zehra Özdemir\n",
        "7.   Zeynep Beyza Börekçi\n",
        "\n"
      ],
      "metadata": {
        "id": "9kDmkQFXpfx7"
      }
    },
    {
      "cell_type": "markdown",
      "source": [
        "# 1) Gerekli Kütüphanelerin Eklenmesi\n"
      ],
      "metadata": {
        "id": "cg-QYd20qtEo"
      }
    },
    {
      "cell_type": "code",
      "execution_count": null,
      "metadata": {
        "id": "UP9SPEnbpVAw"
      },
      "outputs": [],
      "source": [
        "import numpy as np # linear algebra\n",
        "import pandas as pd # data processing, CSV file I/O (e.g. pd.read_csv)\n",
        "import matplotlib.pyplot as plt\n",
        "import seaborn as sns\n",
        "from sklearn.model_selection import train_test_split\n",
        "from sklearn.preprocessing import  StandardScaler\n",
        "from sklearn.preprocessing import  LabelEncoder\n",
        "\n",
        "# MODELING\n",
        "from sklearn.linear_model import LinearRegression, Ridge, Lasso, ElasticNet\n",
        "from sklearn.metrics import mean_squared_error\n",
        "from sklearn.model_selection import train_test_split, GridSearchCV, cross_val_score\n",
        "from sklearn.neighbors import KNeighborsRegressor\n",
        "from sklearn.svm import SVR\n",
        "from sklearn.tree import DecisionTreeRegressor\n",
        "from sklearn.model_selection import train_test_split\n",
        "from sklearn.exceptions import ConvergenceWarning\n",
        "from sklearn.metrics import mean_squared_error as MSE\n",
        "from sklearn.metrics import mean_absolute_error as mae\n",
        "\n",
        "import xgboost\n",
        "from xgboost import XGBRegressor\n",
        "from lightgbm import LGBMRegressor\n",
        "from sklearn.neural_network import MLPRegressor\n",
        "from sklearn.tree import DecisionTreeRegressor\n",
        "from sklearn.ensemble import RandomForestRegressor\n",
        "from sklearn.ensemble import GradientBoostingRegressor"
      ]
    },
    {
      "cell_type": "markdown",
      "source": [
        "# 2) Keşifsel Veri Analizi"
      ],
      "metadata": {
        "id": "Mfyl7UBfsO-U"
      }
    },
    {
      "cell_type": "code",
      "source": [
        "df = pd.read_csv(\"insurance.csv\")\n",
        "df.head()"
      ],
      "metadata": {
        "colab": {
          "base_uri": "https://localhost:8080/",
          "height": 206
        },
        "id": "F74g3_RxsX_q",
        "outputId": "7eb6f801-2599-4a28-8610-ec4330976df3"
      },
      "execution_count": null,
      "outputs": [
        {
          "output_type": "execute_result",
          "data": {
            "text/plain": [
              "   age     sex     bmi  children smoker     region      charges\n",
              "0   19  female  27.900         0    yes  southwest  16884.92400\n",
              "1   18    male  33.770         1     no  southeast   1725.55230\n",
              "2   28    male  33.000         3     no  southeast   4449.46200\n",
              "3   33    male  22.705         0     no  northwest  21984.47061\n",
              "4   32    male  28.880         0     no  northwest   3866.85520"
            ],
            "text/html": [
              "\n",
              "  <div id=\"df-a2fdcb55-49d5-4341-a2e7-33915dfcd76a\">\n",
              "    <div class=\"colab-df-container\">\n",
              "      <div>\n",
              "<style scoped>\n",
              "    .dataframe tbody tr th:only-of-type {\n",
              "        vertical-align: middle;\n",
              "    }\n",
              "\n",
              "    .dataframe tbody tr th {\n",
              "        vertical-align: top;\n",
              "    }\n",
              "\n",
              "    .dataframe thead th {\n",
              "        text-align: right;\n",
              "    }\n",
              "</style>\n",
              "<table border=\"1\" class=\"dataframe\">\n",
              "  <thead>\n",
              "    <tr style=\"text-align: right;\">\n",
              "      <th></th>\n",
              "      <th>age</th>\n",
              "      <th>sex</th>\n",
              "      <th>bmi</th>\n",
              "      <th>children</th>\n",
              "      <th>smoker</th>\n",
              "      <th>region</th>\n",
              "      <th>charges</th>\n",
              "    </tr>\n",
              "  </thead>\n",
              "  <tbody>\n",
              "    <tr>\n",
              "      <th>0</th>\n",
              "      <td>19</td>\n",
              "      <td>female</td>\n",
              "      <td>27.900</td>\n",
              "      <td>0</td>\n",
              "      <td>yes</td>\n",
              "      <td>southwest</td>\n",
              "      <td>16884.92400</td>\n",
              "    </tr>\n",
              "    <tr>\n",
              "      <th>1</th>\n",
              "      <td>18</td>\n",
              "      <td>male</td>\n",
              "      <td>33.770</td>\n",
              "      <td>1</td>\n",
              "      <td>no</td>\n",
              "      <td>southeast</td>\n",
              "      <td>1725.55230</td>\n",
              "    </tr>\n",
              "    <tr>\n",
              "      <th>2</th>\n",
              "      <td>28</td>\n",
              "      <td>male</td>\n",
              "      <td>33.000</td>\n",
              "      <td>3</td>\n",
              "      <td>no</td>\n",
              "      <td>southeast</td>\n",
              "      <td>4449.46200</td>\n",
              "    </tr>\n",
              "    <tr>\n",
              "      <th>3</th>\n",
              "      <td>33</td>\n",
              "      <td>male</td>\n",
              "      <td>22.705</td>\n",
              "      <td>0</td>\n",
              "      <td>no</td>\n",
              "      <td>northwest</td>\n",
              "      <td>21984.47061</td>\n",
              "    </tr>\n",
              "    <tr>\n",
              "      <th>4</th>\n",
              "      <td>32</td>\n",
              "      <td>male</td>\n",
              "      <td>28.880</td>\n",
              "      <td>0</td>\n",
              "      <td>no</td>\n",
              "      <td>northwest</td>\n",
              "      <td>3866.85520</td>\n",
              "    </tr>\n",
              "  </tbody>\n",
              "</table>\n",
              "</div>\n",
              "      <button class=\"colab-df-convert\" onclick=\"convertToInteractive('df-a2fdcb55-49d5-4341-a2e7-33915dfcd76a')\"\n",
              "              title=\"Convert this dataframe to an interactive table.\"\n",
              "              style=\"display:none;\">\n",
              "        \n",
              "  <svg xmlns=\"http://www.w3.org/2000/svg\" height=\"24px\"viewBox=\"0 0 24 24\"\n",
              "       width=\"24px\">\n",
              "    <path d=\"M0 0h24v24H0V0z\" fill=\"none\"/>\n",
              "    <path d=\"M18.56 5.44l.94 2.06.94-2.06 2.06-.94-2.06-.94-.94-2.06-.94 2.06-2.06.94zm-11 1L8.5 8.5l.94-2.06 2.06-.94-2.06-.94L8.5 2.5l-.94 2.06-2.06.94zm10 10l.94 2.06.94-2.06 2.06-.94-2.06-.94-.94-2.06-.94 2.06-2.06.94z\"/><path d=\"M17.41 7.96l-1.37-1.37c-.4-.4-.92-.59-1.43-.59-.52 0-1.04.2-1.43.59L10.3 9.45l-7.72 7.72c-.78.78-.78 2.05 0 2.83L4 21.41c.39.39.9.59 1.41.59.51 0 1.02-.2 1.41-.59l7.78-7.78 2.81-2.81c.8-.78.8-2.07 0-2.86zM5.41 20L4 18.59l7.72-7.72 1.47 1.35L5.41 20z\"/>\n",
              "  </svg>\n",
              "      </button>\n",
              "      \n",
              "  <style>\n",
              "    .colab-df-container {\n",
              "      display:flex;\n",
              "      flex-wrap:wrap;\n",
              "      gap: 12px;\n",
              "    }\n",
              "\n",
              "    .colab-df-convert {\n",
              "      background-color: #E8F0FE;\n",
              "      border: none;\n",
              "      border-radius: 50%;\n",
              "      cursor: pointer;\n",
              "      display: none;\n",
              "      fill: #1967D2;\n",
              "      height: 32px;\n",
              "      padding: 0 0 0 0;\n",
              "      width: 32px;\n",
              "    }\n",
              "\n",
              "    .colab-df-convert:hover {\n",
              "      background-color: #E2EBFA;\n",
              "      box-shadow: 0px 1px 2px rgba(60, 64, 67, 0.3), 0px 1px 3px 1px rgba(60, 64, 67, 0.15);\n",
              "      fill: #174EA6;\n",
              "    }\n",
              "\n",
              "    [theme=dark] .colab-df-convert {\n",
              "      background-color: #3B4455;\n",
              "      fill: #D2E3FC;\n",
              "    }\n",
              "\n",
              "    [theme=dark] .colab-df-convert:hover {\n",
              "      background-color: #434B5C;\n",
              "      box-shadow: 0px 1px 3px 1px rgba(0, 0, 0, 0.15);\n",
              "      filter: drop-shadow(0px 1px 2px rgba(0, 0, 0, 0.3));\n",
              "      fill: #FFFFFF;\n",
              "    }\n",
              "  </style>\n",
              "\n",
              "      <script>\n",
              "        const buttonEl =\n",
              "          document.querySelector('#df-a2fdcb55-49d5-4341-a2e7-33915dfcd76a button.colab-df-convert');\n",
              "        buttonEl.style.display =\n",
              "          google.colab.kernel.accessAllowed ? 'block' : 'none';\n",
              "\n",
              "        async function convertToInteractive(key) {\n",
              "          const element = document.querySelector('#df-a2fdcb55-49d5-4341-a2e7-33915dfcd76a');\n",
              "          const dataTable =\n",
              "            await google.colab.kernel.invokeFunction('convertToInteractive',\n",
              "                                                     [key], {});\n",
              "          if (!dataTable) return;\n",
              "\n",
              "          const docLinkHtml = 'Like what you see? Visit the ' +\n",
              "            '<a target=\"_blank\" href=https://colab.research.google.com/notebooks/data_table.ipynb>data table notebook</a>'\n",
              "            + ' to learn more about interactive tables.';\n",
              "          element.innerHTML = '';\n",
              "          dataTable['output_type'] = 'display_data';\n",
              "          await google.colab.output.renderOutput(dataTable, element);\n",
              "          const docLink = document.createElement('div');\n",
              "          docLink.innerHTML = docLinkHtml;\n",
              "          element.appendChild(docLink);\n",
              "        }\n",
              "      </script>\n",
              "    </div>\n",
              "  </div>\n",
              "  "
            ]
          },
          "metadata": {},
          "execution_count": 2
        }
      ]
    },
    {
      "cell_type": "markdown",
      "source": [
        "a) BMI Dağılımının İncelenmesi"
      ],
      "metadata": {
        "id": "kt8pVcbIzxCJ"
      }
    },
    {
      "cell_type": "code",
      "source": [
        "sns.histplot(x=\"bmi\", data=df)\n",
        "plt.xlabel(\"bmi\")\n",
        "plt.ylabel(\"adet\")\n",
        "plt.title(\"BMI Dağılım Grafiği\")\n",
        "plt.text(43,90,'ortalama: {:.2f}'.format(df.bmi.mean()), color=\"black\", bbox={'facecolor':'none', 'edgecolor': 'red',\n",
        "       'boxstyle': 'square'})"
      ],
      "metadata": {
        "id": "eubeSR2qz4QB",
        "colab": {
          "base_uri": "https://localhost:8080/",
          "height": 312
        },
        "outputId": "c34d442d-cb75-4b38-c46e-15b8e6f5f0ad"
      },
      "execution_count": null,
      "outputs": [
        {
          "output_type": "execute_result",
          "data": {
            "text/plain": [
              "Text(43, 90, 'ortalama: 30.66')"
            ]
          },
          "metadata": {},
          "execution_count": 55
        },
        {
          "output_type": "display_data",
          "data": {
            "text/plain": [
              "<Figure size 432x288 with 1 Axes>"
            ],
            "image/png": "[encoded data removed]"
          },
          "metadata": {
            "needs_background": "light"
          }
        }
      ]
    },
    {
      "cell_type": "markdown",
      "source": [
        "b) Smoker ile Charges Arasındaki İlişki"
      ],
      "metadata": {
        "id": "EF9xDyKO_G-C"
      }
    },
    {
      "cell_type": "code",
      "source": [
        "# smoker dağılımını inceleyelim\n",
        "df2 = df.groupby(['smoker'])['smoker'].size().reset_index(name='counts')\n",
        "size=df2.counts\n",
        "fig1, ax1 = plt.subplots()\n",
        "print(df2)\n",
        "print(\"\\n\")\n",
        "label=\"sigara kullanmayanlar\", \"sigara kullananlar\"\n",
        "ax1.pie(size, labels=label, startangle=90, autopct='%1.1f%%')\n",
        "ax1.axis('equal')\n",
        "plt.show()"
      ],
      "metadata": {
        "colab": {
          "base_uri": "https://localhost:8080/",
          "height": 335
        },
        "id": "RP3JhljkUIrj",
        "outputId": "f1d7c26f-5889-4ebd-ec63-7be341739fef"
      },
      "execution_count": 107,
      "outputs": [
        {
          "output_type": "stream",
          "name": "stdout",
          "text": [
            "  smoker  counts\n",
            "0     no    1064\n",
            "1    yes     274\n",
            "\n",
            "\n"
          ]
        },
        {
          "output_type": "display_data",
          "data": {
            "text/plain": [
              "<Figure size 432x288 with 1 Axes>"
            ],
            "image/png": "[encoded data removed]"
          },
          "metadata": {}
        }
      ]
    },
    {
      "cell_type": "code",
      "source": [
        "# scatterplot ile dağılımı inceleyelim\n",
        "sns.scatterplot(data=df, x=\"smoker\",y=\"charges\",hue=\"smoker\")\n",
        "plt.title(\" Masrafların Sigara Kullanımı ile lişkisi\")\n",
        "plt.legend(loc=\"upper right\")\n",
        "df3=df[df['smoker'].isin(['no'])]\n",
        "df4=df[df['smoker'].isin(['yes'])]\n",
        "plt.text(1.1,8434,'içmeyenlerin ortalama masrafı: {:.2f}'.format(df3.charges.mean()), color=\"white\", bbox={'facecolor':'#F97306', 'edgecolor': 'black',\n",
        "       'boxstyle': 'larrow'})\n",
        "plt.text(-0.9,32050,'içenlerin ortalama masrafı: {:.2f}'.format(df4.charges.mean()), color=\"white\", bbox={'facecolor':'#0343DF', 'edgecolor': 'black',\n",
        "       'boxstyle': 'rarrow'})\n",
        "plt.show()\n"
      ],
      "metadata": {
        "id": "-S9oU1_M_DYf",
        "colab": {
          "base_uri": "https://localhost:8080/",
          "height": 295
        },
        "outputId": "00e4914f-1a46-4e67-ad0a-d9ceaf0f3617"
      },
      "execution_count": 196,
      "outputs": [
        {
          "output_type": "display_data",
          "data": {
            "text/plain": [
              "<Figure size 432x288 with 1 Axes>"
            ],
            "image/png": "[encoded data removed]"
          },
          "metadata": {}
        }
      ]
    },
    {
      "cell_type": "markdown",
      "source": [
        "**Sonuç:** Sigara içenlerin sağlık sigortası masrafları içmeyenlere göre daha fazladır."
      ],
      "metadata": {
        "id": "rxpMBOoDskCC"
      }
    },
    {
      "cell_type": "markdown",
      "source": [
        "c) Smoker ile Region Arasındaki İlişki"
      ],
      "metadata": {
        "id": "4WPMwslztDJ4"
      }
    },
    {
      "cell_type": "code",
      "source": [
        "grafik = pd.crosstab(index=df[\"region\"], columns=df[\"smoker\"])\n",
        "grafik.plot(kind=\"bar\")\n",
        "plt.title(\"Bölgelere göre sigara kullanan insan sayısı\")\n",
        "plt.show()"
      ],
      "metadata": {
        "colab": {
          "base_uri": "https://localhost:8080/",
          "height": 337
        },
        "id": "gzBb4P0ltOnm",
        "outputId": "1a6a8753-3100-44e9-9072-bf9b417b60db"
      },
      "execution_count": 197,
      "outputs": [
        {
          "output_type": "display_data",
          "data": {
            "text/plain": [
              "<Figure size 432x288 with 1 Axes>"
            ],
            "image/png": "[encoded data removed]"
          },
          "metadata": {}
        }
      ]
    },
    {
      "cell_type": "markdown",
      "source": [
        "**Sonuç:** Bölgeler arasındaki sigara kullanımında belirgin farklar görülmemektedir."
      ],
      "metadata": {
        "id": "f4Ww7S6EyXRR"
      }
    },
    {
      "cell_type": "markdown",
      "source": [
        "d) BMI ile Sex Arasındaki İlişki"
      ],
      "metadata": {
        "id": "ei0vxH5nyjzp"
      }
    },
    {
      "cell_type": "code",
      "source": [],
      "metadata": {
        "id": "0cpO4nCOyypC"
      },
      "execution_count": null,
      "outputs": []
    }
  ]
}