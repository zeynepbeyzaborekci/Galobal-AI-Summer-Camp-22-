{
  "nbformat": 4,
  "nbformat_minor": 0,
  "metadata": {
    "colab": {
      "name": "End_to_End_Project.ipynb",
      "provenance": [],
      "collapsed_sections": [],
      "authorship_tag": "ABX9TyMQgljaQOjVQWh/8uIbWkEK",
      "include_colab_link": true
    },
    "kernelspec": {
      "name": "python3",
      "display_name": "Python 3"
    },
    "language_info": {
      "name": "python"
    }
  },
  "cells": [
    {
      "cell_type": "markdown",
      "metadata": {
        "id": "view-in-github",
        "colab_type": "text"
      },
      "source": [
        "<a href=\"https://colab.research.google.com/github/zeynepbeyzaborekci/Galobal-AI-Summer-Camp-22-/blob/main/End_to_End_Project.ipynb\" target=\"_parent\"><img src=\"https://colab.research.google.com/assets/colab-badge.svg\" alt=\"Open In Colab\"/></a>"
      ]
    },
    {
      "cell_type": "markdown",
      "source": [
        "# Medikal Maliyet Analizi Projesi\n",
        "\n",
        "> **Amaç:** Verilen değişkenlere göre bir kişinin sağlık\n",
        "sigortasının yaklaşık ne kadar masraflı olacağını tahmin etmek.\n",
        "\n",
        "> **Veri Seti:** https://www.kaggle.com/datasets/mirichoi0218/insurance\n",
        "\n",
        "> Grup Üyeleri\n",
        "\n",
        "1.   Ahmet Emre Gökalp\n",
        "2.   Bahadır Özcanlı\n",
        "3.   Baver Can Aydoğan\n",
        "4.   Deniz Sakarya\n",
        "5.   Kadir Dündar\n",
        "6.   Zehra Özdemir\n",
        "7.   Zeynep Beyza Börekçi\n",
        "\n"
      ],
      "metadata": {
        "id": "9kDmkQFXpfx7"
      }
    },
    {
      "cell_type": "markdown",
      "source": [
        "# 1) Gerekli Kütüphanelerin Eklenmesi\n"
      ],
      "metadata": {
        "id": "cg-QYd20qtEo"
      }
    },
    {
      "cell_type": "code",
      "execution_count": 45,
      "metadata": {
        "id": "UP9SPEnbpVAw"
      },
      "outputs": [],
      "source": [
        "import numpy as np # linear algebra\n",
        "import pandas as pd # data processing, CSV file I/O (e.g. pd.read_csv)\n",
        "import matplotlib.pyplot as plt\n",
        "import seaborn as sns\n",
        "from sklearn.model_selection import train_test_split\n",
        "from sklearn.preprocessing import  StandardScaler\n",
        "from sklearn.preprocessing import  LabelEncoder\n",
        "\n",
        "# MODELING\n",
        "from sklearn.linear_model import LinearRegression, Ridge, Lasso, ElasticNet\n",
        "from sklearn.metrics import mean_squared_error\n",
        "from sklearn.model_selection import train_test_split, GridSearchCV, cross_val_score\n",
        "from sklearn.neighbors import KNeighborsRegressor\n",
        "from sklearn.svm import SVR\n",
        "from sklearn.tree import DecisionTreeRegressor\n",
        "from sklearn.model_selection import train_test_split\n",
        "from sklearn.exceptions import ConvergenceWarning\n",
        "from sklearn.metrics import mean_squared_error as MSE\n",
        "from sklearn.metrics import mean_absolute_error as mae\n",
        "\n",
        "import xgboost\n",
        "from xgboost import XGBRegressor\n",
        "from lightgbm import LGBMRegressor\n",
        "from sklearn.neural_network import MLPRegressor\n",
        "from sklearn.tree import DecisionTreeRegressor\n",
        "from sklearn.ensemble import RandomForestRegressor\n",
        "from sklearn.ensemble import GradientBoostingRegressor"
      ]
    },
    {
      "cell_type": "markdown",
      "source": [
        "# 2) Keşifsel Veri Analizi"
      ],
      "metadata": {
        "id": "Mfyl7UBfsO-U"
      }
    },
    {
      "cell_type": "code",
      "source": [
        "df = pd.read_csv(\"insurance.csv\")\n",
        "df.head()"
      ],
      "metadata": {
        "colab": {
          "base_uri": "https://localhost:8080/",
          "height": 206
        },
        "id": "F74g3_RxsX_q",
        "outputId": "c5ff65e9-f2c9-42c5-9b10-525bdba169c2"
      },
      "execution_count": 46,
      "outputs": [
        {
          "output_type": "execute_result",
          "data": {
            "text/plain": [
              "   age     sex     bmi  children smoker     region      charges\n",
              "0   19  female  27.900         0    yes  southwest  16884.92400\n",
              "1   18    male  33.770         1     no  southeast   1725.55230\n",
              "2   28    male  33.000         3     no  southeast   4449.46200\n",
              "3   33    male  22.705         0     no  northwest  21984.47061\n",
              "4   32    male  28.880         0     no  northwest   3866.85520"
            ],
            "text/html": [
              "\n",
              "  <div id=\"df-569bf284-715c-4d76-bbcb-2ec5e2a98519\">\n",
              "    <div class=\"colab-df-container\">\n",
              "      <div>\n",
              "<style scoped>\n",
              "    .dataframe tbody tr th:only-of-type {\n",
              "        vertical-align: middle;\n",
              "    }\n",
              "\n",
              "    .dataframe tbody tr th {\n",
              "        vertical-align: top;\n",
              "    }\n",
              "\n",
              "    .dataframe thead th {\n",
              "        text-align: right;\n",
              "    }\n",
              "</style>\n",
              "<table border=\"1\" class=\"dataframe\">\n",
              "  <thead>\n",
              "    <tr style=\"text-align: right;\">\n",
              "      <th></th>\n",
              "      <th>age</th>\n",
              "      <th>sex</th>\n",
              "      <th>bmi</th>\n",
              "      <th>children</th>\n",
              "      <th>smoker</th>\n",
              "      <th>region</th>\n",
              "      <th>charges</th>\n",
              "    </tr>\n",
              "  </thead>\n",
              "  <tbody>\n",
              "    <tr>\n",
              "      <th>0</th>\n",
              "      <td>19</td>\n",
              "      <td>female</td>\n",
              "      <td>27.900</td>\n",
              "      <td>0</td>\n",
              "      <td>yes</td>\n",
              "      <td>southwest</td>\n",
              "      <td>16884.92400</td>\n",
              "    </tr>\n",
              "    <tr>\n",
              "      <th>1</th>\n",
              "      <td>18</td>\n",
              "      <td>male</td>\n",
              "      <td>33.770</td>\n",
              "      <td>1</td>\n",
              "      <td>no</td>\n",
              "      <td>southeast</td>\n",
              "      <td>1725.55230</td>\n",
              "    </tr>\n",
              "    <tr>\n",
              "      <th>2</th>\n",
              "      <td>28</td>\n",
              "      <td>male</td>\n",
              "      <td>33.000</td>\n",
              "      <td>3</td>\n",
              "      <td>no</td>\n",
              "      <td>southeast</td>\n",
              "      <td>4449.46200</td>\n",
              "    </tr>\n",
              "    <tr>\n",
              "      <th>3</th>\n",
              "      <td>33</td>\n",
              "      <td>male</td>\n",
              "      <td>22.705</td>\n",
              "      <td>0</td>\n",
              "      <td>no</td>\n",
              "      <td>northwest</td>\n",
              "      <td>21984.47061</td>\n",
              "    </tr>\n",
              "    <tr>\n",
              "      <th>4</th>\n",
              "      <td>32</td>\n",
              "      <td>male</td>\n",
              "      <td>28.880</td>\n",
              "      <td>0</td>\n",
              "      <td>no</td>\n",
              "      <td>northwest</td>\n",
              "      <td>3866.85520</td>\n",
              "    </tr>\n",
              "  </tbody>\n",
              "</table>\n",
              "</div>\n",
              "      <button class=\"colab-df-convert\" onclick=\"convertToInteractive('df-569bf284-715c-4d76-bbcb-2ec5e2a98519')\"\n",
              "              title=\"Convert this dataframe to an interactive table.\"\n",
              "              style=\"display:none;\">\n",
              "        \n",
              "  <svg xmlns=\"http://www.w3.org/2000/svg\" height=\"24px\"viewBox=\"0 0 24 24\"\n",
              "       width=\"24px\">\n",
              "    <path d=\"M0 0h24v24H0V0z\" fill=\"none\"/>\n",
              "    <path d=\"M18.56 5.44l.94 2.06.94-2.06 2.06-.94-2.06-.94-.94-2.06-.94 2.06-2.06.94zm-11 1L8.5 8.5l.94-2.06 2.06-.94-2.06-.94L8.5 2.5l-.94 2.06-2.06.94zm10 10l.94 2.06.94-2.06 2.06-.94-2.06-.94-.94-2.06-.94 2.06-2.06.94z\"/><path d=\"M17.41 7.96l-1.37-1.37c-.4-.4-.92-.59-1.43-.59-.52 0-1.04.2-1.43.59L10.3 9.45l-7.72 7.72c-.78.78-.78 2.05 0 2.83L4 21.41c.39.39.9.59 1.41.59.51 0 1.02-.2 1.41-.59l7.78-7.78 2.81-2.81c.8-.78.8-2.07 0-2.86zM5.41 20L4 18.59l7.72-7.72 1.47 1.35L5.41 20z\"/>\n",
              "  </svg>\n",
              "      </button>\n",
              "      \n",
              "  <style>\n",
              "    .colab-df-container {\n",
              "      display:flex;\n",
              "      flex-wrap:wrap;\n",
              "      gap: 12px;\n",
              "    }\n",
              "\n",
              "    .colab-df-convert {\n",
              "      background-color: #E8F0FE;\n",
              "      border: none;\n",
              "      border-radius: 50%;\n",
              "      cursor: pointer;\n",
              "      display: none;\n",
              "      fill: #1967D2;\n",
              "      height: 32px;\n",
              "      padding: 0 0 0 0;\n",
              "      width: 32px;\n",
              "    }\n",
              "\n",
              "    .colab-df-convert:hover {\n",
              "      background-color: #E2EBFA;\n",
              "      box-shadow: 0px 1px 2px rgba(60, 64, 67, 0.3), 0px 1px 3px 1px rgba(60, 64, 67, 0.15);\n",
              "      fill: #174EA6;\n",
              "    }\n",
              "\n",
              "    [theme=dark] .colab-df-convert {\n",
              "      background-color: #3B4455;\n",
              "      fill: #D2E3FC;\n",
              "    }\n",
              "\n",
              "    [theme=dark] .colab-df-convert:hover {\n",
              "      background-color: #434B5C;\n",
              "      box-shadow: 0px 1px 3px 1px rgba(0, 0, 0, 0.15);\n",
              "      filter: drop-shadow(0px 1px 2px rgba(0, 0, 0, 0.3));\n",
              "      fill: #FFFFFF;\n",
              "    }\n",
              "  </style>\n",
              "\n",
              "      <script>\n",
              "        const buttonEl =\n",
              "          document.querySelector('#df-569bf284-715c-4d76-bbcb-2ec5e2a98519 button.colab-df-convert');\n",
              "        buttonEl.style.display =\n",
              "          google.colab.kernel.accessAllowed ? 'block' : 'none';\n",
              "\n",
              "        async function convertToInteractive(key) {\n",
              "          const element = document.querySelector('#df-569bf284-715c-4d76-bbcb-2ec5e2a98519');\n",
              "          const dataTable =\n",
              "            await google.colab.kernel.invokeFunction('convertToInteractive',\n",
              "                                                     [key], {});\n",
              "          if (!dataTable) return;\n",
              "\n",
              "          const docLinkHtml = 'Like what you see? Visit the ' +\n",
              "            '<a target=\"_blank\" href=https://colab.research.google.com/notebooks/data_table.ipynb>data table notebook</a>'\n",
              "            + ' to learn more about interactive tables.';\n",
              "          element.innerHTML = '';\n",
              "          dataTable['output_type'] = 'display_data';\n",
              "          await google.colab.output.renderOutput(dataTable, element);\n",
              "          const docLink = document.createElement('div');\n",
              "          docLink.innerHTML = docLinkHtml;\n",
              "          element.appendChild(docLink);\n",
              "        }\n",
              "      </script>\n",
              "    </div>\n",
              "  </div>\n",
              "  "
            ]
          },
          "metadata": {},
          "execution_count": 46
        }
      ]
    },
    {
      "cell_type": "markdown",
      "source": [
        "a) BMI Dağılımının İncelenmesi"
      ],
      "metadata": {
        "id": "kt8pVcbIzxCJ"
      }
    },
    {
      "cell_type": "code",
      "source": [
        "sns.histplot(x=\"bmi\", data=df)\n",
        "plt.xlabel(\"bmi\")\n",
        "plt.ylabel(\"adet\")\n",
        "plt.title(\"BMI Dağılım Grafiği\")\n",
        "plt.text(43,90,'ortalama: {:.2f}'.format(df.bmi.mean()), color=\"black\", bbox={'facecolor':'none', 'edgecolor': 'red',\n",
        "       'boxstyle': 'square'})"
      ],
      "metadata": {
        "id": "eubeSR2qz4QB",
        "colab": {
          "base_uri": "https://localhost:8080/",
          "height": 312
        },
        "outputId": "c34d442d-cb75-4b38-c46e-15b8e6f5f0ad"
      },
      "execution_count": null,
      "outputs": [
        {
          "output_type": "execute_result",
          "data": {
            "text/plain": [
              "Text(43, 90, 'ortalama: 30.66')"
            ]
          },
          "metadata": {},
          "execution_count": 55
        },
        {
          "output_type": "display_data",
          "data": {
            "text/plain": [
              "<Figure size 432x288 with 1 Axes>"
            ],
            "image/png": "[encoded data removed]"
          },
          "metadata": {
            "needs_background": "light"
          }
        }
      ]
    },
    {
      "cell_type": "markdown",
      "source": [
        "b) Smoker ile Charges Arasındaki İlişki"
      ],
      "metadata": {
        "id": "EF9xDyKO_G-C"
      }
    },
    {
      "cell_type": "code",
      "source": [
        "# smoker dağılımını inceleyelim\n",
        "df2 = df.groupby(['smoker'])['smoker'].size().reset_index(name='counts')\n",
        "size=df2.counts\n",
        "fig1, ax1 = plt.subplots()\n",
        "print(df2)\n",
        "print(\"\\n\")\n",
        "label=\"sigara kullanmayanlar\", \"sigara kullananlar\"\n",
        "ax1.pie(size, labels=label, startangle=90, autopct='%1.1f%%')\n",
        "ax1.axis('equal')\n",
        "plt.show()"
      ],
      "metadata": {
        "colab": {
          "base_uri": "https://localhost:8080/",
          "height": 335
        },
        "id": "RP3JhljkUIrj",
        "outputId": "f1d7c26f-5889-4ebd-ec63-7be341739fef"
      },
      "execution_count": 107,
      "outputs": [
        {
          "output_type": "stream",
          "name": "stdout",
          "text": [
            "  smoker  counts\n",
            "0     no    1064\n",
            "1    yes     274\n",
            "\n",
            "\n"
          ]
        },
        {
          "output_type": "display_data",
          "data": {
            "text/plain": [
              "<Figure size 432x288 with 1 Axes>"
            ],
            "image/png": "[encoded data removed]"
          },
          "metadata": {}
        }
      ]
    },
    {
      "cell_type": "code",
      "source": [
        "# scatterplot ile dağılımı inceleyelim\n",
        "sns.scatterplot(data=df, x=\"smoker\",y=\"charges\",hue=\"smoker\")\n",
        "plt.title(\" Masrafların Sigara Kullanımı ile lişkisi\")\n",
        "plt.legend(loc=\"upper right\")\n",
        "df3=df[df['smoker'].isin(['no'])]\n",
        "df4=df[df['smoker'].isin(['yes'])]\n",
        "plt.text(1.1,8434,'içmeyenlerin ortalama masrafı: {:.2f}'.format(df3.charges.mean()), color=\"white\", bbox={'facecolor':'#F97306', 'edgecolor': 'black',\n",
        "       'boxstyle': 'larrow'})\n",
        "plt.text(-0.9,32050,'içenlerin ortalama masrafı: {:.2f}'.format(df4.charges.mean()), color=\"white\", bbox={'facecolor':'#0343DF', 'edgecolor': 'black',\n",
        "       'boxstyle': 'rarrow'})\n",
        "plt.show()\n"
      ],
      "metadata": {
        "id": "-S9oU1_M_DYf",
        "colab": {
          "base_uri": "https://localhost:8080/",
          "height": 295
        },
        "outputId": "00e4914f-1a46-4e67-ad0a-d9ceaf0f3617"
      },
      "execution_count": 196,
      "outputs": [
        {
          "output_type": "display_data",
          "data": {
            "text/plain": [
              "<Figure size 432x288 with 1 Axes>"
            ],
            "image/png": "[encoded data removed]"
          },
          "metadata": {}
        }
      ]
    },
    {
      "cell_type": "markdown",
      "source": [
        "**Sonuç:** Sigara içenlerin sağlık sigortası masrafları içmeyenlere göre daha fazladır."
      ],
      "metadata": {
        "id": "rxpMBOoDskCC"
      }
    },
    {
      "cell_type": "markdown",
      "source": [
        "c) Smoker ile Region Arasındaki İlişki"
      ],
      "metadata": {
        "id": "4WPMwslztDJ4"
      }
    },
    {
      "cell_type": "code",
      "source": [
        "grafik = pd.crosstab(index=df[\"region\"], columns=df[\"smoker\"])\n",
        "grafik.plot(kind=\"bar\")\n",
        "plt.title(\"Bölgelere göre sigara kullanan insan sayısı\")\n",
        "plt.show()"
      ],
      "metadata": {
        "colab": {
          "base_uri": "https://localhost:8080/",
          "height": 337
        },
        "id": "gzBb4P0ltOnm",
        "outputId": "1a6a8753-3100-44e9-9072-bf9b417b60db"
      },
      "execution_count": 197,
      "outputs": [
        {
          "output_type": "display_data",
          "data": {
            "text/plain": [
              "<Figure size 432x288 with 1 Axes>"
            ],
            "image/png": "[encoded data removed]"
          },
          "metadata": {}
        }
      ]
    },
    {
      "cell_type": "markdown",
      "source": [
        "**Sonuç:** Bölgeler arasındaki sigara kullanımında belirgin farklar görülmemektedir."
      ],
      "metadata": {
        "id": "f4Ww7S6EyXRR"
      }
    },
    {
      "cell_type": "markdown",
      "source": [
        "d) BMI ile Sex Arasındaki İlişki"
      ],
      "metadata": {
        "id": "ei0vxH5nyjzp"
      }
    },
    {
      "cell_type": "code",
      "source": [
        "sns.scatterplot(data=df, x=\"sex\",y=\"bmi\",hue=\"sex\")\n",
        "plt.title(\" Cinsiyetler ile Vücut Kitle İndeksi Arasınki İlişki\")\n",
        "plt.legend(loc=\"upper right\")\n",
        "plt.show"
      ],
      "metadata": {
        "colab": {
          "base_uri": "https://localhost:8080/",
          "height": 313
        },
        "id": "0cpO4nCOyypC",
        "outputId": "7fc62db1-a5b4-4a3b-9aee-3d86001442b4"
      },
      "execution_count": 6,
      "outputs": [
        {
          "output_type": "execute_result",
          "data": {
            "text/plain": [
              "<function matplotlib.pyplot.show(*args, **kw)>"
            ]
          },
          "metadata": {},
          "execution_count": 6
        },
        {
          "output_type": "display_data",
          "data": {
            "text/plain": [
              "<Figure size 432x288 with 1 Axes>"
            ],
            "image/png": "[encoded data removed]"
          },
          "metadata": {
            "needs_background": "light"
          }
        }
      ]
    },
    {
      "cell_type": "markdown",
      "source": [
        "**Sonuç:** Cinsiyetler arasındaki Vücut Kitle İndeksi oranında belirgin farklar görülmemektedir."
      ],
      "metadata": {
        "id": "BQMvoOuSIpQb"
      }
    },
    {
      "cell_type": "markdown",
      "source": [
        "e) En Çok Children'a Sahip Region"
      ],
      "metadata": {
        "id": "0i99Xq2MIzx-"
      }
    },
    {
      "cell_type": "code",
      "source": [
        "\n",
        "df_children = df[[\"region\", \"children\"]].groupby([\"region\"]).agg({\"children\":\"sum\"})\n",
        "plt.pie(df_children.children,labels=df_children.index,autopct = '%0.0f%%')\n",
        "plt.title(\"Bölgelere Göre Çocuk Sayısı Dağılımı\")\n",
        "plt.show()\n",
        "df.groupby(\"region\").agg({\"children\": \"sum\"})"
      ],
      "metadata": {
        "colab": {
          "base_uri": "https://localhost:8080/",
          "height": 453
        },
        "id": "spDJFS6lJAQ4",
        "outputId": "78af0f0e-7cbd-4628-e222-81791b1f6e24"
      },
      "execution_count": 12,
      "outputs": [
        {
          "output_type": "display_data",
          "data": {
            "text/plain": [
              "<Figure size 432x288 with 1 Axes>"
            ],
            "image/png": "[encoded data removed]"
          },
          "metadata": {}
        },
        {
          "output_type": "execute_result",
          "data": {
            "text/plain": [
              "           children\n",
              "region             \n",
              "northeast       339\n",
              "northwest       373\n",
              "southeast       382\n",
              "southwest       371"
            ],
            "text/html": [
              "\n",
              "  <div id=\"df-beca6f95-ba91-470b-b9a0-a4ff49c75289\">\n",
              "    <div class=\"colab-df-container\">\n",
              "      <div>\n",
              "<style scoped>\n",
              "    .dataframe tbody tr th:only-of-type {\n",
              "        vertical-align: middle;\n",
              "    }\n",
              "\n",
              "    .dataframe tbody tr th {\n",
              "        vertical-align: top;\n",
              "    }\n",
              "\n",
              "    .dataframe thead th {\n",
              "        text-align: right;\n",
              "    }\n",
              "</style>\n",
              "<table border=\"1\" class=\"dataframe\">\n",
              "  <thead>\n",
              "    <tr style=\"text-align: right;\">\n",
              "      <th></th>\n",
              "      <th>children</th>\n",
              "    </tr>\n",
              "    <tr>\n",
              "      <th>region</th>\n",
              "      <th></th>\n",
              "    </tr>\n",
              "  </thead>\n",
              "  <tbody>\n",
              "    <tr>\n",
              "      <th>northeast</th>\n",
              "      <td>339</td>\n",
              "    </tr>\n",
              "    <tr>\n",
              "      <th>northwest</th>\n",
              "      <td>373</td>\n",
              "    </tr>\n",
              "    <tr>\n",
              "      <th>southeast</th>\n",
              "      <td>382</td>\n",
              "    </tr>\n",
              "    <tr>\n",
              "      <th>southwest</th>\n",
              "      <td>371</td>\n",
              "    </tr>\n",
              "  </tbody>\n",
              "</table>\n",
              "</div>\n",
              "      <button class=\"colab-df-convert\" onclick=\"convertToInteractive('df-beca6f95-ba91-470b-b9a0-a4ff49c75289')\"\n",
              "              title=\"Convert this dataframe to an interactive table.\"\n",
              "              style=\"display:none;\">\n",
              "        \n",
              "  <svg xmlns=\"http://www.w3.org/2000/svg\" height=\"24px\"viewBox=\"0 0 24 24\"\n",
              "       width=\"24px\">\n",
              "    <path d=\"M0 0h24v24H0V0z\" fill=\"none\"/>\n",
              "    <path d=\"M18.56 5.44l.94 2.06.94-2.06 2.06-.94-2.06-.94-.94-2.06-.94 2.06-2.06.94zm-11 1L8.5 8.5l.94-2.06 2.06-.94-2.06-.94L8.5 2.5l-.94 2.06-2.06.94zm10 10l.94 2.06.94-2.06 2.06-.94-2.06-.94-.94-2.06-.94 2.06-2.06.94z\"/><path d=\"M17.41 7.96l-1.37-1.37c-.4-.4-.92-.59-1.43-.59-.52 0-1.04.2-1.43.59L10.3 9.45l-7.72 7.72c-.78.78-.78 2.05 0 2.83L4 21.41c.39.39.9.59 1.41.59.51 0 1.02-.2 1.41-.59l7.78-7.78 2.81-2.81c.8-.78.8-2.07 0-2.86zM5.41 20L4 18.59l7.72-7.72 1.47 1.35L5.41 20z\"/>\n",
              "  </svg>\n",
              "      </button>\n",
              "      \n",
              "  <style>\n",
              "    .colab-df-container {\n",
              "      display:flex;\n",
              "      flex-wrap:wrap;\n",
              "      gap: 12px;\n",
              "    }\n",
              "\n",
              "    .colab-df-convert {\n",
              "      background-color: #E8F0FE;\n",
              "      border: none;\n",
              "      border-radius: 50%;\n",
              "      cursor: pointer;\n",
              "      display: none;\n",
              "      fill: #1967D2;\n",
              "      height: 32px;\n",
              "      padding: 0 0 0 0;\n",
              "      width: 32px;\n",
              "    }\n",
              "\n",
              "    .colab-df-convert:hover {\n",
              "      background-color: #E2EBFA;\n",
              "      box-shadow: 0px 1px 2px rgba(60, 64, 67, 0.3), 0px 1px 3px 1px rgba(60, 64, 67, 0.15);\n",
              "      fill: #174EA6;\n",
              "    }\n",
              "\n",
              "    [theme=dark] .colab-df-convert {\n",
              "      background-color: #3B4455;\n",
              "      fill: #D2E3FC;\n",
              "    }\n",
              "\n",
              "    [theme=dark] .colab-df-convert:hover {\n",
              "      background-color: #434B5C;\n",
              "      box-shadow: 0px 1px 3px 1px rgba(0, 0, 0, 0.15);\n",
              "      filter: drop-shadow(0px 1px 2px rgba(0, 0, 0, 0.3));\n",
              "      fill: #FFFFFF;\n",
              "    }\n",
              "  </style>\n",
              "\n",
              "      <script>\n",
              "        const buttonEl =\n",
              "          document.querySelector('#df-beca6f95-ba91-470b-b9a0-a4ff49c75289 button.colab-df-convert');\n",
              "        buttonEl.style.display =\n",
              "          google.colab.kernel.accessAllowed ? 'block' : 'none';\n",
              "\n",
              "        async function convertToInteractive(key) {\n",
              "          const element = document.querySelector('#df-beca6f95-ba91-470b-b9a0-a4ff49c75289');\n",
              "          const dataTable =\n",
              "            await google.colab.kernel.invokeFunction('convertToInteractive',\n",
              "                                                     [key], {});\n",
              "          if (!dataTable) return;\n",
              "\n",
              "          const docLinkHtml = 'Like what you see? Visit the ' +\n",
              "            '<a target=\"_blank\" href=https://colab.research.google.com/notebooks/data_table.ipynb>data table notebook</a>'\n",
              "            + ' to learn more about interactive tables.';\n",
              "          element.innerHTML = '';\n",
              "          dataTable['output_type'] = 'display_data';\n",
              "          await google.colab.output.renderOutput(dataTable, element);\n",
              "          const docLink = document.createElement('div');\n",
              "          docLink.innerHTML = docLinkHtml;\n",
              "          element.appendChild(docLink);\n",
              "        }\n",
              "      </script>\n",
              "    </div>\n",
              "  </div>\n",
              "  "
            ]
          },
          "metadata": {},
          "execution_count": 12
        }
      ]
    },
    {
      "cell_type": "markdown",
      "source": [
        "**Sonuç:** Southeast en çok çocuk sayısına sahip bölge konumundadır."
      ],
      "metadata": {
        "id": "5LhcruHsJb7Y"
      }
    },
    {
      "cell_type": "markdown",
      "source": [
        "f) Age ile Bmi Arasındaki İlişki"
      ],
      "metadata": {
        "id": "guVL_2XBJl8c"
      }
    },
    {
      "cell_type": "code",
      "source": [
        "plt.bar(df.age,df.bmi,\n",
        "label=\"-\",width=.5)\n",
        "\n",
        "plt.legend()\n",
        "plt.xlabel('age')\n",
        "plt.ylabel('bmi')\n",
        "plt.title('Yaş ile Vücut Kitle İndeksi Arasındaki İlişki')\n",
        "plt.show()"
      ],
      "metadata": {
        "colab": {
          "base_uri": "https://localhost:8080/",
          "height": 296
        },
        "id": "cwTuF6rCJvs-",
        "outputId": "144cf3a1-9ba7-423d-f390-ac7df4312438"
      },
      "execution_count": 14,
      "outputs": [
        {
          "output_type": "display_data",
          "data": {
            "text/plain": [
              "<Figure size 432x288 with 1 Axes>"
            ],
            "image/png": "[encoded data removed]"
          },
          "metadata": {
            "needs_background": "light"
          }
        }
      ]
    },
    {
      "cell_type": "markdown",
      "source": [
        "**Sonuç:** Yaş ile Vücut Kitle İndeksi arasında bir düzen olmadığını görebiliriz. "
      ],
      "metadata": {
        "id": "S01g6QuwMOlw"
      }
    },
    {
      "cell_type": "markdown",
      "source": [
        "g) BMI ile Children Arasındaki İlişki"
      ],
      "metadata": {
        "id": "3o8kVjjEMa0d"
      }
    },
    {
      "cell_type": "code",
      "source": [
        "plt.bar(df.bmi,df.children,\n",
        "label=\"-\",width=.5)\n",
        "\n",
        "plt.legend()\n",
        "plt.xlabel('bmi')\n",
        "plt.ylabel('children')\n",
        "plt.title('Çocuk Sayısı ile Vücut Kitle İndeksi Arasındaki İlişki')\n",
        "plt.show()"
      ],
      "metadata": {
        "colab": {
          "base_uri": "https://localhost:8080/",
          "height": 296
        },
        "id": "RlyNX2OyMmxe",
        "outputId": "c1d1aca8-b9b0-43fd-c064-8a093a5164f0"
      },
      "execution_count": 16,
      "outputs": [
        {
          "output_type": "display_data",
          "data": {
            "text/plain": [
              "<Figure size 432x288 with 1 Axes>"
            ],
            "image/png": "[encoded data removed]"
          },
          "metadata": {
            "needs_background": "light"
          }
        }
      ]
    },
    {
      "cell_type": "markdown",
      "source": [
        "h) BMI Değişkeninde Outlier"
      ],
      "metadata": {
        "id": "qpoktvxQNkmD"
      }
    },
    {
      "cell_type": "code",
      "source": [
        "np.random.seed(10)\n",
        "\n",
        "exData = df['bmi']\n",
        "fig = plt.figure(figsize =(10, 7))\n",
        " \n",
        "# Creating plot\n",
        "plt.boxplot(exData)\n",
        " \n",
        "# show plot\n",
        "plt.show()"
      ],
      "metadata": {
        "colab": {
          "base_uri": "https://localhost:8080/",
          "height": 428
        },
        "id": "kx6L_ArhNuve",
        "outputId": "c5ff60e3-92a2-496d-98ac-a0cb6de34d03"
      },
      "execution_count": 17,
      "outputs": [
        {
          "output_type": "display_data",
          "data": {
            "text/plain": [
              "<Figure size 720x504 with 1 Axes>"
            ],
            "image/png": "[encoded data removed]"
          },
          "metadata": {
            "needs_background": "light"
          }
        }
      ]
    },
    {
      "cell_type": "markdown",
      "source": [
        "**Sonuç:** Outlier değerler vardır."
      ],
      "metadata": {
        "id": "0VcruEVUOHLh"
      }
    },
    {
      "cell_type": "markdown",
      "source": [
        "ı) BMI ile Charges Arasındaki İlişki"
      ],
      "metadata": {
        "id": "7o7pxG6uN0Up"
      }
    },
    {
      "cell_type": "code",
      "source": [
        "plt.bar(df.bmi,df.charges,\n",
        "label=\"-\",width=.5)\n",
        "\n",
        "plt.legend()\n",
        "plt.xlabel('bmi')\n",
        "plt.ylabel('charges')\n",
        "plt.title('Vücut Kitle İndeksi ile Sigorta Masrafları Arasındaki İlişki')\n",
        "plt.show()"
      ],
      "metadata": {
        "colab": {
          "base_uri": "https://localhost:8080/",
          "height": 296
        },
        "id": "7W5d5dogN9dU",
        "outputId": "90323982-cfff-4205-9f36-2645a14255ca"
      },
      "execution_count": 18,
      "outputs": [
        {
          "output_type": "display_data",
          "data": {
            "text/plain": [
              "<Figure size 432x288 with 1 Axes>"
            ],
            "image/png": "[encoded data removed]"
          },
          "metadata": {
            "needs_background": "light"
          }
        }
      ]
    },
    {
      "cell_type": "markdown",
      "source": [
        "**Sonuç:** İki veri arasında belirgin bir düzen görülmemektedir. Daha düşük bmi'a sahip biri daha fazla ücret ödeyebilir."
      ],
      "metadata": {
        "id": "UI5AQDo5OcwM"
      }
    },
    {
      "cell_type": "markdown",
      "source": [
        "i) Region, Smoker ve BMI Arasındaki İlişki"
      ],
      "metadata": {
        "id": "VJv0wXFWOr_s"
      }
    },
    {
      "cell_type": "code",
      "source": [
        "sns.barplot(data=df, x=\"region\", y=\"bmi\", hue=\"smoker\", ci=\"sd\")\n",
        "plt.title(\"Bölge, Sigara Kullanımı ve BMI Arasındaki İlişki\")\n",
        "plt.show()"
      ],
      "metadata": {
        "colab": {
          "base_uri": "https://localhost:8080/",
          "height": 296
        },
        "id": "-rAgv7m3O0n3",
        "outputId": "9341a84c-7a84-4f70-990d-a0a52144a278"
      },
      "execution_count": 20,
      "outputs": [
        {
          "output_type": "display_data",
          "data": {
            "text/plain": [
              "<Figure size 432x288 with 1 Axes>"
            ],
            "image/png": "[encoded data removed]"
          },
          "metadata": {
            "needs_background": "light"
          }
        }
      ]
    },
    {
      "cell_type": "markdown",
      "source": [
        "# 3) Veri Ön İşleme"
      ],
      "metadata": {
        "id": "qaC4I45pPKNX"
      }
    },
    {
      "cell_type": "code",
      "source": [
        "def label_encoder(dataframe, binary_col):\n",
        "  labelencoder=LabelEncoder()\n",
        "  dataframe[binary_col] = labelencoder.fit_transform(dataframe[binary_col])\n",
        "  return dataframe\n",
        "\n",
        "\n",
        "label_encoder(df, 'sex')\n",
        "label_encoder(df, 'smoker')"
      ],
      "metadata": {
        "colab": {
          "base_uri": "https://localhost:8080/",
          "height": 424
        },
        "id": "nWlcMh0LPZaF",
        "outputId": "025f7029-4128-4f07-8ad7-eacf528d9488"
      },
      "execution_count": 50,
      "outputs": [
        {
          "output_type": "execute_result",
          "data": {
            "text/plain": [
              "      age  sex     bmi  children  smoker     region      charges\n",
              "0      19    0  27.900         0       1  southwest  16884.92400\n",
              "1      18    1  33.770         1       0  southeast   1725.55230\n",
              "2      28    1  33.000         3       0  southeast   4449.46200\n",
              "3      33    1  22.705         0       0  northwest  21984.47061\n",
              "4      32    1  28.880         0       0  northwest   3866.85520\n",
              "...   ...  ...     ...       ...     ...        ...          ...\n",
              "1333   50    1  30.970         3       0  northwest  10600.54830\n",
              "1334   18    0  31.920         0       0  northeast   2205.98080\n",
              "1335   18    0  36.850         0       0  southeast   1629.83350\n",
              "1336   21    0  25.800         0       0  southwest   2007.94500\n",
              "1337   61    0  29.070         0       1  northwest  29141.36030\n",
              "\n",
              "[1338 rows x 7 columns]"
            ],
            "text/html": [
              "\n",
              "  <div id=\"df-f92bbe41-76a5-4b95-bed8-e24d19d5265b\">\n",
              "    <div class=\"colab-df-container\">\n",
              "      <div>\n",
              "<style scoped>\n",
              "    .dataframe tbody tr th:only-of-type {\n",
              "        vertical-align: middle;\n",
              "    }\n",
              "\n",
              "    .dataframe tbody tr th {\n",
              "        vertical-align: top;\n",
              "    }\n",
              "\n",
              "    .dataframe thead th {\n",
              "        text-align: right;\n",
              "    }\n",
              "</style>\n",
              "<table border=\"1\" class=\"dataframe\">\n",
              "  <thead>\n",
              "    <tr style=\"text-align: right;\">\n",
              "      <th></th>\n",
              "      <th>age</th>\n",
              "      <th>sex</th>\n",
              "      <th>bmi</th>\n",
              "      <th>children</th>\n",
              "      <th>smoker</th>\n",
              "      <th>region</th>\n",
              "      <th>charges</th>\n",
              "    </tr>\n",
              "  </thead>\n",
              "  <tbody>\n",
              "    <tr>\n",
              "      <th>0</th>\n",
              "      <td>19</td>\n",
              "      <td>0</td>\n",
              "      <td>27.900</td>\n",
              "      <td>0</td>\n",
              "      <td>1</td>\n",
              "      <td>southwest</td>\n",
              "      <td>16884.92400</td>\n",
              "    </tr>\n",
              "    <tr>\n",
              "      <th>1</th>\n",
              "      <td>18</td>\n",
              "      <td>1</td>\n",
              "      <td>33.770</td>\n",
              "      <td>1</td>\n",
              "      <td>0</td>\n",
              "      <td>southeast</td>\n",
              "      <td>1725.55230</td>\n",
              "    </tr>\n",
              "    <tr>\n",
              "      <th>2</th>\n",
              "      <td>28</td>\n",
              "      <td>1</td>\n",
              "      <td>33.000</td>\n",
              "      <td>3</td>\n",
              "      <td>0</td>\n",
              "      <td>southeast</td>\n",
              "      <td>4449.46200</td>\n",
              "    </tr>\n",
              "    <tr>\n",
              "      <th>3</th>\n",
              "      <td>33</td>\n",
              "      <td>1</td>\n",
              "      <td>22.705</td>\n",
              "      <td>0</td>\n",
              "      <td>0</td>\n",
              "      <td>northwest</td>\n",
              "      <td>21984.47061</td>\n",
              "    </tr>\n",
              "    <tr>\n",
              "      <th>4</th>\n",
              "      <td>32</td>\n",
              "      <td>1</td>\n",
              "      <td>28.880</td>\n",
              "      <td>0</td>\n",
              "      <td>0</td>\n",
              "      <td>northwest</td>\n",
              "      <td>3866.85520</td>\n",
              "    </tr>\n",
              "    <tr>\n",
              "      <th>...</th>\n",
              "      <td>...</td>\n",
              "      <td>...</td>\n",
              "      <td>...</td>\n",
              "      <td>...</td>\n",
              "      <td>...</td>\n",
              "      <td>...</td>\n",
              "      <td>...</td>\n",
              "    </tr>\n",
              "    <tr>\n",
              "      <th>1333</th>\n",
              "      <td>50</td>\n",
              "      <td>1</td>\n",
              "      <td>30.970</td>\n",
              "      <td>3</td>\n",
              "      <td>0</td>\n",
              "      <td>northwest</td>\n",
              "      <td>10600.54830</td>\n",
              "    </tr>\n",
              "    <tr>\n",
              "      <th>1334</th>\n",
              "      <td>18</td>\n",
              "      <td>0</td>\n",
              "      <td>31.920</td>\n",
              "      <td>0</td>\n",
              "      <td>0</td>\n",
              "      <td>northeast</td>\n",
              "      <td>2205.98080</td>\n",
              "    </tr>\n",
              "    <tr>\n",
              "      <th>1335</th>\n",
              "      <td>18</td>\n",
              "      <td>0</td>\n",
              "      <td>36.850</td>\n",
              "      <td>0</td>\n",
              "      <td>0</td>\n",
              "      <td>southeast</td>\n",
              "      <td>1629.83350</td>\n",
              "    </tr>\n",
              "    <tr>\n",
              "      <th>1336</th>\n",
              "      <td>21</td>\n",
              "      <td>0</td>\n",
              "      <td>25.800</td>\n",
              "      <td>0</td>\n",
              "      <td>0</td>\n",
              "      <td>southwest</td>\n",
              "      <td>2007.94500</td>\n",
              "    </tr>\n",
              "    <tr>\n",
              "      <th>1337</th>\n",
              "      <td>61</td>\n",
              "      <td>0</td>\n",
              "      <td>29.070</td>\n",
              "      <td>0</td>\n",
              "      <td>1</td>\n",
              "      <td>northwest</td>\n",
              "      <td>29141.36030</td>\n",
              "    </tr>\n",
              "  </tbody>\n",
              "</table>\n",
              "<p>1338 rows × 7 columns</p>\n",
              "</div>\n",
              "      <button class=\"colab-df-convert\" onclick=\"convertToInteractive('df-f92bbe41-76a5-4b95-bed8-e24d19d5265b')\"\n",
              "              title=\"Convert this dataframe to an interactive table.\"\n",
              "              style=\"display:none;\">\n",
              "        \n",
              "  <svg xmlns=\"http://www.w3.org/2000/svg\" height=\"24px\"viewBox=\"0 0 24 24\"\n",
              "       width=\"24px\">\n",
              "    <path d=\"M0 0h24v24H0V0z\" fill=\"none\"/>\n",
              "    <path d=\"M18.56 5.44l.94 2.06.94-2.06 2.06-.94-2.06-.94-.94-2.06-.94 2.06-2.06.94zm-11 1L8.5 8.5l.94-2.06 2.06-.94-2.06-.94L8.5 2.5l-.94 2.06-2.06.94zm10 10l.94 2.06.94-2.06 2.06-.94-2.06-.94-.94-2.06-.94 2.06-2.06.94z\"/><path d=\"M17.41 7.96l-1.37-1.37c-.4-.4-.92-.59-1.43-.59-.52 0-1.04.2-1.43.59L10.3 9.45l-7.72 7.72c-.78.78-.78 2.05 0 2.83L4 21.41c.39.39.9.59 1.41.59.51 0 1.02-.2 1.41-.59l7.78-7.78 2.81-2.81c.8-.78.8-2.07 0-2.86zM5.41 20L4 18.59l7.72-7.72 1.47 1.35L5.41 20z\"/>\n",
              "  </svg>\n",
              "      </button>\n",
              "      \n",
              "  <style>\n",
              "    .colab-df-container {\n",
              "      display:flex;\n",
              "      flex-wrap:wrap;\n",
              "      gap: 12px;\n",
              "    }\n",
              "\n",
              "    .colab-df-convert {\n",
              "      background-color: #E8F0FE;\n",
              "      border: none;\n",
              "      border-radius: 50%;\n",
              "      cursor: pointer;\n",
              "      display: none;\n",
              "      fill: #1967D2;\n",
              "      height: 32px;\n",
              "      padding: 0 0 0 0;\n",
              "      width: 32px;\n",
              "    }\n",
              "\n",
              "    .colab-df-convert:hover {\n",
              "      background-color: #E2EBFA;\n",
              "      box-shadow: 0px 1px 2px rgba(60, 64, 67, 0.3), 0px 1px 3px 1px rgba(60, 64, 67, 0.15);\n",
              "      fill: #174EA6;\n",
              "    }\n",
              "\n",
              "    [theme=dark] .colab-df-convert {\n",
              "      background-color: #3B4455;\n",
              "      fill: #D2E3FC;\n",
              "    }\n",
              "\n",
              "    [theme=dark] .colab-df-convert:hover {\n",
              "      background-color: #434B5C;\n",
              "      box-shadow: 0px 1px 3px 1px rgba(0, 0, 0, 0.15);\n",
              "      filter: drop-shadow(0px 1px 2px rgba(0, 0, 0, 0.3));\n",
              "      fill: #FFFFFF;\n",
              "    }\n",
              "  </style>\n",
              "\n",
              "      <script>\n",
              "        const buttonEl =\n",
              "          document.querySelector('#df-f92bbe41-76a5-4b95-bed8-e24d19d5265b button.colab-df-convert');\n",
              "        buttonEl.style.display =\n",
              "          google.colab.kernel.accessAllowed ? 'block' : 'none';\n",
              "\n",
              "        async function convertToInteractive(key) {\n",
              "          const element = document.querySelector('#df-f92bbe41-76a5-4b95-bed8-e24d19d5265b');\n",
              "          const dataTable =\n",
              "            await google.colab.kernel.invokeFunction('convertToInteractive',\n",
              "                                                     [key], {});\n",
              "          if (!dataTable) return;\n",
              "\n",
              "          const docLinkHtml = 'Like what you see? Visit the ' +\n",
              "            '<a target=\"_blank\" href=https://colab.research.google.com/notebooks/data_table.ipynb>data table notebook</a>'\n",
              "            + ' to learn more about interactive tables.';\n",
              "          element.innerHTML = '';\n",
              "          dataTable['output_type'] = 'display_data';\n",
              "          await google.colab.output.renderOutput(dataTable, element);\n",
              "          const docLink = document.createElement('div');\n",
              "          docLink.innerHTML = docLinkHtml;\n",
              "          element.appendChild(docLink);\n",
              "        }\n",
              "      </script>\n",
              "    </div>\n",
              "  </div>\n",
              "  "
            ]
          },
          "metadata": {},
          "execution_count": 50
        }
      ]
    },
    {
      "cell_type": "code",
      "source": [
        "# Dummy tuzağına takılmamak için ilk sütunu düşürüyoruz\n",
        "df = pd.get_dummies(df, columns=[\"region\"], drop_first=True) "
      ],
      "metadata": {
        "id": "Qwh7xCYKPjDq"
      },
      "execution_count": 52,
      "outputs": []
    },
    {
      "cell_type": "code",
      "source": [
        "X = df.drop('charges', axis=1)\n",
        "y = df.charges\n",
        "X_train, X_test, y_train, y_test = train_test_split(X, y, test_size=0.33, random_state=55)"
      ],
      "metadata": {
        "id": "jWXzMku1PpDS"
      },
      "execution_count": 53,
      "outputs": []
    },
    {
      "cell_type": "code",
      "source": [
        "ss = StandardScaler()\n",
        "ss.fit_transform(df)"
      ],
      "metadata": {
        "colab": {
          "base_uri": "https://localhost:8080/"
        },
        "id": "dXf7LZtJQY99",
        "outputId": "5773b48b-a90d-4000-8179-cdded0555dfb"
      },
      "execution_count": 54,
      "outputs": [
        {
          "output_type": "execute_result",
          "data": {
            "text/plain": [
              "array([[-1.43876426, -1.0105187 , -0.45332   , ..., -0.56641788,\n",
              "        -0.61132367,  1.76548098],\n",
              "       [-1.50996545,  0.98959079,  0.5096211 , ..., -0.56641788,\n",
              "         1.63579466, -0.56641788],\n",
              "       [-0.79795355,  0.98959079,  0.38330685, ..., -0.56641788,\n",
              "         1.63579466, -0.56641788],\n",
              "       ...,\n",
              "       [-1.50996545, -1.0105187 ,  1.0148781 , ..., -0.56641788,\n",
              "         1.63579466, -0.56641788],\n",
              "       [-1.29636188, -1.0105187 , -0.79781341, ..., -0.56641788,\n",
              "        -0.61132367,  1.76548098],\n",
              "       [ 1.55168573, -1.0105187 , -0.26138796, ...,  1.76548098,\n",
              "        -0.61132367, -0.56641788]])"
            ]
          },
          "metadata": {},
          "execution_count": 54
        }
      ]
    },
    {
      "cell_type": "markdown",
      "source": [
        "# 5) Model Seçme"
      ],
      "metadata": {
        "id": "UcetR5ShQsmR"
      }
    },
    {
      "cell_type": "code",
      "source": [
        "models = [('LR', LinearRegression()),\n",
        "          (\"Ridge\", Ridge()),\n",
        "          (\"Lasso\", Lasso()),\n",
        "          (\"ElasticNet\", ElasticNet()),\n",
        "          ('KNN', KNeighborsRegressor()),\n",
        "          ('CART', DecisionTreeRegressor()),\n",
        "          ('RF', RandomForestRegressor()),\n",
        "          ('SVR', SVR()),\n",
        "          ('GBM', GradientBoostingRegressor()),\n",
        "          (\"XGBoost\", XGBRegressor(objective='reg:squarederror')),\n",
        "          (\"LightGBM\", LGBMRegressor())]\n",
        "          # (\"CatBoost\", CatBoostRegressor(verbose=False))]\n",
        "\n",
        "for name, regressor in models:\n",
        "  # Fitting the model\n",
        "    m = regressor.fit(X_train, y_train)\n",
        "  \n",
        "# Predict the model\n",
        "    pred = m.predict(X_test)\n",
        "    rmse = np.sqrt(MSE(y_test, pred))\n",
        "    print(f\"RMSE: {round(rmse, 4)} ({name}) \")"
      ],
      "metadata": {
        "colab": {
          "base_uri": "https://localhost:8080/"
        },
        "id": "RkG73PW9QwZf",
        "outputId": "b2bb205a-a87a-4a0c-d6e2-335ec7d49811"
      },
      "execution_count": 55,
      "outputs": [
        {
          "output_type": "stream",
          "name": "stdout",
          "text": [
            "RMSE: 6024.8341 (LR) \n",
            "RMSE: 6017.9471 (Ridge) \n",
            "RMSE: 6024.751 (Lasso) \n",
            "RMSE: 9229.5226 (ElasticNet) \n",
            "RMSE: 10944.5897 (KNN) \n",
            "RMSE: 6078.0649 (CART) \n",
            "RMSE: 4664.4897 (RF) \n",
            "RMSE: 12415.0436 (SVR) \n",
            "RMSE: 4223.3943 (GBM) \n",
            "RMSE: 4225.3282 (XGBoost) \n",
            "RMSE: 4652.8881 (LightGBM) \n"
          ]
        }
      ]
    },
    {
      "cell_type": "code",
      "source": [
        "a=XGBRegressor.get_xgb_params\n",
        "print(np.array(a))"
      ],
      "metadata": {
        "colab": {
          "base_uri": "https://localhost:8080/"
        },
        "id": "WtinCA2oSR2P",
        "outputId": "cc4e69b4-d03e-4808-b3f6-f2f8926816a8"
      },
      "execution_count": 56,
      "outputs": [
        {
          "output_type": "stream",
          "name": "stdout",
          "text": [
            "<function XGBModel.get_xgb_params at 0x7f0ce93bab00>\n"
          ]
        }
      ]
    },
    {
      "cell_type": "code",
      "source": [
        "xgboostModel = XGBRegressor(objective='reg:squarederror')\n",
        "\n",
        "rmse = np.sqrt(MSE(y_test, pred))\n",
        "\n",
        "\n",
        "xgboostParams = {'nthread':[4], #when use hyperthread, xgboost may become slower\n",
        "              'objective':['reg:linear'],\n",
        "              'learning_rate': [.03, 0.05, .07], #so called `eta` value\n",
        "              'max_depth': [5, 6, 7],\n",
        "              'min_child_weight': [4],\n",
        "              'silent': [1],\n",
        "              'subsample': [0.7],\n",
        "              'colsample_bytree': [0.7],\n",
        "              'n_estimators': [500]}\n",
        "\n",
        "xgboostGsBest = GridSearchCV(xgboostModel,\n",
        "                            xgboostParams,\n",
        "                            cv=3,\n",
        "                            n_jobs=-1,\n",
        "                            verbose=True).fit(X_train, y_train)"
      ],
      "metadata": {
        "colab": {
          "base_uri": "https://localhost:8080/"
        },
        "id": "jY5vx47zSTkN",
        "outputId": "d1bba528-daa8-412b-a2ee-6d51b6d35cd5"
      },
      "execution_count": 57,
      "outputs": [
        {
          "output_type": "stream",
          "name": "stdout",
          "text": [
            "Fitting 3 folds for each of 9 candidates, totalling 27 fits\n"
          ]
        }
      ]
    },
    {
      "cell_type": "code",
      "source": [
        "xgboostGsBest.best_params_"
      ],
      "metadata": {
        "colab": {
          "base_uri": "https://localhost:8080/"
        },
        "id": "rr7xWR--Schr",
        "outputId": "ee320467-90e2-4085-980d-57bf98aa30bf"
      },
      "execution_count": 58,
      "outputs": [
        {
          "output_type": "execute_result",
          "data": {
            "text/plain": [
              "{'colsample_bytree': 0.7,\n",
              " 'learning_rate': 0.03,\n",
              " 'max_depth': 5,\n",
              " 'min_child_weight': 4,\n",
              " 'n_estimators': 500,\n",
              " 'nthread': 4,\n",
              " 'objective': 'reg:linear',\n",
              " 'silent': 1,\n",
              " 'subsample': 0.7}"
            ]
          },
          "metadata": {},
          "execution_count": 58
        }
      ]
    },
    {
      "cell_type": "code",
      "source": [
        "finalModel = xgboostModel.set_params(**xgboostGsBest.best_params_).fit(X, y)\n",
        "\n",
        "rmse = np.sqrt(MSE(y_test, pred))\n",
        "print(rmse)"
      ],
      "metadata": {
        "colab": {
          "base_uri": "https://localhost:8080/"
        },
        "id": "Cu3xl4URSd6b",
        "outputId": "fc488104-6652-4fa8-817b-531e17548121"
      },
      "execution_count": 59,
      "outputs": [
        {
          "output_type": "stream",
          "name": "stdout",
          "text": [
            "4652.888077569533\n"
          ]
        }
      ]
    },
    {
      "cell_type": "code",
      "source": [
        "mse = (MSE(y_test, pred))\n",
        "\n",
        "\n",
        "def mae(y_test, pred):\n",
        "    y_test, pred = np.array(y_test), np.array(pred)\n",
        "    return  np.mean(np.abs(y_test - pred))\n",
        "\n",
        "print(mse)\n",
        "print(\"##############\")\n",
        "mae(y_test, pred)"
      ],
      "metadata": {
        "colab": {
          "base_uri": "https://localhost:8080/"
        },
        "id": "76yt4oj8Sk6Q",
        "outputId": "efa90417-2d6d-4427-fe15-da561e2ddd40"
      },
      "execution_count": 60,
      "outputs": [
        {
          "output_type": "stream",
          "name": "stdout",
          "text": [
            "21649367.46238871\n",
            "##############\n"
          ]
        },
        {
          "output_type": "execute_result",
          "data": {
            "text/plain": [
              "2781.056650908132"
            ]
          },
          "metadata": {},
          "execution_count": 60
        }
      ]
    }
  ]
}